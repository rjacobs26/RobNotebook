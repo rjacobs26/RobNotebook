{
 "cells": [
  {
   "cell_type": "markdown",
   "id": "e1d63ef7-709d-4545-99ec-86a272c88d82",
   "metadata": {},
   "source": [
    "# Data Science Tools and Ecosystem"
   ]
  },
  {
   "cell_type": "markdown",
   "id": "d7e3031f-7bf0-42b5-aca7-cdc43ca3ccf6",
   "metadata": {},
   "source": [
    "In this notebook, Data Science Tools and Ecosystem are summarized.\n"
   ]
  },
  {
   "cell_type": "markdown",
   "id": "03fbdf40-dd68-459e-9f4f-4ccd3150f1e4",
   "metadata": {},
   "source": [
    "Some of the popular languages that Data Scientists use are:\n",
    "\n",
    "1. Python\n",
    "2. R\n",
    "3. Java"
   ]
  },
  {
   "cell_type": "markdown",
   "id": "c94f8723-9ba8-4c88-be74-e43bf963992b",
   "metadata": {},
   "source": [
    "Some of the commonly used libraries used by Data Scientists include:\n",
    "1. NumPy\n",
    "2. TensorFlow\n",
    "3. Panda\n",
    "\n"
   ]
  },
  {
   "cell_type": "markdown",
   "id": "28037e1b-04a5-41da-9d35-43001ff8af35",
   "metadata": {},
   "source": [
    "Data Science Tools\n",
    "|Jupyter Notebook|\n",
    "------------------\n",
    "|R Studio|\n",
    "-----------------\n",
    "|Apache Zeppelin|\n",
    "-----------------"
   ]
  },
  {
   "cell_type": "code",
   "execution_count": null,
   "id": "4c26fab9-c5b8-42cc-87f9-a958e4dbcaf3",
   "metadata": {},
   "outputs": [],
   "source": []
  },
  {
   "cell_type": "markdown",
   "id": "f7716eaa-94c5-40b6-b59e-088a2a7ca669",
   "metadata": {
    "tags": []
   },
   "source": [
    "### Below are a few examples of evaluating arithmetic expressions in Python"
   ]
  },
  {
   "cell_type": "code",
   "execution_count": 1,
   "id": "6c6dcf02-6c49-4cac-943b-3d16de778d6e",
   "metadata": {
    "tags": []
   },
   "outputs": [
    {
     "name": "stdout",
     "output_type": "stream",
     "text": [
      "17\n"
     ]
    }
   ],
   "source": [
    "x =(3*4)+5\n",
    "#This is a simple arithmetic expression to multiply and then add integers\n",
    "print(x)"
   ]
  },
  {
   "cell_type": "code",
   "execution_count": 2,
   "id": "6c29a040-1eeb-4a8f-8691-987f715d279e",
   "metadata": {
    "tags": []
   },
   "outputs": [
    {
     "name": "stdout",
     "output_type": "stream",
     "text": [
      "3.3333333333333335\n"
     ]
    }
   ],
   "source": [
    "minutes = 200\n",
    "#This code will convert minutes to hours\n",
    "hours = minutes / 60\n",
    "print(hours)"
   ]
  },
  {
   "cell_type": "markdown",
   "id": "2b3b9135-93f4-4748-9b3e-831842ca2650",
   "metadata": {},
   "source": [
    "**Objectives:**\n",
    "- List popular data science libraries\n",
    "- conduct numerical operations\n",
    "- convert minutes to hours"
   ]
  },
  {
   "cell_type": "markdown",
   "id": "6ca64437-d124-4a0f-8de7-c74698543f3c",
   "metadata": {},
   "source": [
    "## Author:\n",
    "Robbie Jacobs"
   ]
  },
  {
   "cell_type": "code",
   "execution_count": null,
   "id": "3dfaa8df-2edf-4370-807d-794806bbfad7",
   "metadata": {},
   "outputs": [],
   "source": []
  }
 ],
 "metadata": {
  "kernelspec": {
   "display_name": "Python",
   "language": "python",
   "name": "conda-env-python-py"
  },
  "language_info": {
   "codemirror_mode": {
    "name": "ipython",
    "version": 3
   },
   "file_extension": ".py",
   "mimetype": "text/x-python",
   "name": "python",
   "nbconvert_exporter": "python",
   "pygments_lexer": "ipython3",
   "version": "3.7.12"
  }
 },
 "nbformat": 4,
 "nbformat_minor": 5
}
